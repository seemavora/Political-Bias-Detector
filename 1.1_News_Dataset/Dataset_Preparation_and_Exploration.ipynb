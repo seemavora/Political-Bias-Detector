{
  "cells": [
    {
      "cell_type": "markdown",
      "metadata": {
        "id": "fEe3f6SC08LN"
      },
      "source": [
        "# Importing the Dataset"
      ]
    },
    {
      "cell_type": "code",
      "execution_count": 1,
      "metadata": {
        "colab": {
          "base_uri": "https://localhost:8080/"
        },
        "id": "bZSd9dB4LSyz",
        "outputId": "e5ae2324-0f8a-4f11-9433-3879b9b39eb6"
      },
      "outputs": [
        {
          "name": "stderr",
          "output_type": "stream",
          "text": [
            "/usr/local/lib/python3.10/dist-packages/huggingface_hub/utils/_auth.py:94: UserWarning: \n",
            "The secret `HF_TOKEN` does not exist in your Colab secrets.\n",
            "To authenticate with the Hugging Face Hub, create a token in your settings tab (https://huggingface.co/settings/tokens), set it as secret in your Google Colab and restart your session.\n",
            "You will be able to reuse this secret in all of your notebooks.\n",
            "Please note that authentication is recommended but still optional to access public models or datasets.\n",
            "  warnings.warn(\n"
          ]
        }
      ],
      "source": [
        "import pandas as pd\n",
        "\n",
        "splits = {'train': 'data/train-00000-of-00001.parquet', 'test': 'data/test-00000-of-00001.parquet'}\n",
        "train_df = pd.read_parquet(\"hf://datasets/mediabiasgroup/BABE/\" + splits[\"train\"])\n",
        "test_df = pd.read_parquet(\"hf://datasets/mediabiasgroup/BABE/\" + splits[\"test\"])"
      ]
    },
    {
      "cell_type": "markdown",
      "metadata": {
        "id": "cehvKCinok1-"
      },
      "source": [
        "https://github.com/Media-Bias-Group/Neural-Media-Bias-Detection-Using-Distant-Supervision-With-BABE\n"
      ]
    },
    {
      "cell_type": "code",
      "execution_count": 2,
      "metadata": {
        "colab": {
          "base_uri": "https://localhost:8080/",
          "height": 206
        },
        "id": "Xmw0LH2dLWKx",
        "outputId": "10a60842-1382-47ca-e69c-01baeca6aa89"
      },
      "outputs": [
        {
          "data": {
            "text/html": [
              "\n",
              "  <div id=\"df-4508bd24-2894-48b1-bfe4-d6e52b65f1b0\" class=\"colab-df-container\">\n",
              "    <div>\n",
              "<style scoped>\n",
              "    .dataframe tbody tr th:only-of-type {\n",
              "        vertical-align: middle;\n",
              "    }\n",
              "\n",
              "    .dataframe tbody tr th {\n",
              "        vertical-align: top;\n",
              "    }\n",
              "\n",
              "    .dataframe thead th {\n",
              "        text-align: right;\n",
              "    }\n",
              "</style>\n",
              "<table border=\"1\" class=\"dataframe\">\n",
              "  <thead>\n",
              "    <tr style=\"text-align: right;\">\n",
              "      <th></th>\n",
              "      <th>text</th>\n",
              "      <th>news_link</th>\n",
              "      <th>label</th>\n",
              "      <th>outlet</th>\n",
              "      <th>topic</th>\n",
              "      <th>type</th>\n",
              "      <th>label_opinion</th>\n",
              "      <th>biased_words</th>\n",
              "      <th>uuid</th>\n",
              "    </tr>\n",
              "  </thead>\n",
              "  <tbody>\n",
              "    <tr>\n",
              "      <th>0</th>\n",
              "      <td>NYPD Commissioner Dermot Shea on Monday expres...</td>\n",
              "      <td>http://feedproxy.google.com/~r/breitbart/~3/F5...</td>\n",
              "      <td>0</td>\n",
              "      <td>Breitbart</td>\n",
              "      <td>marriage-equality</td>\n",
              "      <td>None</td>\n",
              "      <td>Entirely factual</td>\n",
              "      <td>[]</td>\n",
              "      <td>GtvFWZmmQmybyeMnb8Wbsr</td>\n",
              "    </tr>\n",
              "    <tr>\n",
              "      <th>1</th>\n",
              "      <td>School systems across the country are adopting...</td>\n",
              "      <td>https://thefederalist.com/2020/07/08/black-liv...</td>\n",
              "      <td>1</td>\n",
              "      <td>Federalist</td>\n",
              "      <td>islam</td>\n",
              "      <td>None</td>\n",
              "      <td>Expresses writer’s opinion</td>\n",
              "      <td>['indoctrinating', 'Marxist', 'alarming']</td>\n",
              "      <td>mvoQPtabs6NZbby6LkLbms</td>\n",
              "    </tr>\n",
              "    <tr>\n",
              "      <th>2</th>\n",
              "      <td>And then along came President Barry Obama, who...</td>\n",
              "      <td>http://feedproxy.google.com/~r/breitbart/~3/ks...</td>\n",
              "      <td>1</td>\n",
              "      <td>Breitbart</td>\n",
              "      <td>marriage-equality</td>\n",
              "      <td>None</td>\n",
              "      <td>Expresses writer’s opinion</td>\n",
              "      <td>['what', 'the', 'hell']</td>\n",
              "      <td>RDWPbijx3n2aw6NiMHt7di</td>\n",
              "    </tr>\n",
              "    <tr>\n",
              "      <th>3</th>\n",
              "      <td>The curfews, which have never before occurred ...</td>\n",
              "      <td>https://www.alternet.org/2020/06/we-just-got-a...</td>\n",
              "      <td>1</td>\n",
              "      <td>Alternet</td>\n",
              "      <td>elections-2020</td>\n",
              "      <td>left</td>\n",
              "      <td>Entirely factual</td>\n",
              "      <td>['false', 'claims']</td>\n",
              "      <td>2uYKw5KpXasJWH65WCjSu4</td>\n",
              "    </tr>\n",
              "    <tr>\n",
              "      <th>4</th>\n",
              "      <td>Rather than help be a part of the solution, Tr...</td>\n",
              "      <td>https://www.alternet.org/2020/06/trump-thought...</td>\n",
              "      <td>1</td>\n",
              "      <td>Alternet</td>\n",
              "      <td>elections-2020</td>\n",
              "      <td>left</td>\n",
              "      <td>Expresses writer’s opinion</td>\n",
              "      <td>['racist']</td>\n",
              "      <td>SRGvrzY9PkvtHESdts35Rw</td>\n",
              "    </tr>\n",
              "  </tbody>\n",
              "</table>\n",
              "</div>\n",
              "    <div class=\"colab-df-buttons\">\n",
              "      \n",
              "  <div class=\"colab-df-container\">\n",
              "    <button class=\"colab-df-convert\" onclick=\"convertToInteractive('df-4508bd24-2894-48b1-bfe4-d6e52b65f1b0')\"\n",
              "            title=\"Convert this dataframe to an interactive table.\"\n",
              "            style=\"display:none;\">\n",
              "      \n",
              "  <svg xmlns=\"http://www.w3.org/2000/svg\" height=\"24px\" viewBox=\"0 -960 960 960\">\n",
              "    <path d=\"M120-120v-720h720v720H120Zm60-500h600v-160H180v160Zm220 220h160v-160H400v160Zm0 220h160v-160H400v160ZM180-400h160v-160H180v160Zm440 0h160v-160H620v160ZM180-180h160v-160H180v160Zm440 0h160v-160H620v160Z\"/>\n",
              "  </svg>\n",
              "    </button>\n",
              "    \n",
              "  <style>\n",
              "    .colab-df-container {\n",
              "      display:flex;\n",
              "      gap: 12px;\n",
              "    }\n",
              "\n",
              "    .colab-df-convert {\n",
              "      background-color: #E8F0FE;\n",
              "      border: none;\n",
              "      border-radius: 50%;\n",
              "      cursor: pointer;\n",
              "      display: none;\n",
              "      fill: #1967D2;\n",
              "      height: 32px;\n",
              "      padding: 0 0 0 0;\n",
              "      width: 32px;\n",
              "    }\n",
              "\n",
              "    .colab-df-convert:hover {\n",
              "      background-color: #E2EBFA;\n",
              "      box-shadow: 0px 1px 2px rgba(60, 64, 67, 0.3), 0px 1px 3px 1px rgba(60, 64, 67, 0.15);\n",
              "      fill: #174EA6;\n",
              "    }\n",
              "\n",
              "    .colab-df-buttons div {\n",
              "      margin-bottom: 4px;\n",
              "    }\n",
              "\n",
              "    [theme=dark] .colab-df-convert {\n",
              "      background-color: #3B4455;\n",
              "      fill: #D2E3FC;\n",
              "    }\n",
              "\n",
              "    [theme=dark] .colab-df-convert:hover {\n",
              "      background-color: #434B5C;\n",
              "      box-shadow: 0px 1px 3px 1px rgba(0, 0, 0, 0.15);\n",
              "      filter: drop-shadow(0px 1px 2px rgba(0, 0, 0, 0.3));\n",
              "      fill: #FFFFFF;\n",
              "    }\n",
              "  </style>\n",
              "\n",
              "    <script>\n",
              "      const buttonEl =\n",
              "        document.querySelector('#df-4508bd24-2894-48b1-bfe4-d6e52b65f1b0 button.colab-df-convert');\n",
              "      buttonEl.style.display =\n",
              "        google.colab.kernel.accessAllowed ? 'block' : 'none';\n",
              "\n",
              "      async function convertToInteractive(key) {\n",
              "        const element = document.querySelector('#df-4508bd24-2894-48b1-bfe4-d6e52b65f1b0');\n",
              "        const dataTable =\n",
              "          await google.colab.kernel.invokeFunction('convertToInteractive',\n",
              "                                                    [key], {});\n",
              "        if (!dataTable) return;\n",
              "\n",
              "        const docLinkHtml = 'Like what you see? Visit the ' +\n",
              "          '<a target=\"_blank\" href=https://colab.research.google.com/notebooks/data_table.ipynb>data table notebook</a>'\n",
              "          + ' to learn more about interactive tables.';\n",
              "        element.innerHTML = '';\n",
              "        dataTable['output_type'] = 'display_data';\n",
              "        await google.colab.output.renderOutput(dataTable, element);\n",
              "        const docLink = document.createElement('div');\n",
              "        docLink.innerHTML = docLinkHtml;\n",
              "        element.appendChild(docLink);\n",
              "      }\n",
              "    </script>\n",
              "  </div>\n",
              "  \n",
              "    </div>\n",
              "  </div>\n",
              "  "
            ],
            "text/plain": [
              "                                                text  \\\n",
              "0  NYPD Commissioner Dermot Shea on Monday expres...   \n",
              "1  School systems across the country are adopting...   \n",
              "2  And then along came President Barry Obama, who...   \n",
              "3  The curfews, which have never before occurred ...   \n",
              "4  Rather than help be a part of the solution, Tr...   \n",
              "\n",
              "                                           news_link  label      outlet  \\\n",
              "0  http://feedproxy.google.com/~r/breitbart/~3/F5...      0   Breitbart   \n",
              "1  https://thefederalist.com/2020/07/08/black-liv...      1  Federalist   \n",
              "2  http://feedproxy.google.com/~r/breitbart/~3/ks...      1   Breitbart   \n",
              "3  https://www.alternet.org/2020/06/we-just-got-a...      1    Alternet   \n",
              "4  https://www.alternet.org/2020/06/trump-thought...      1    Alternet   \n",
              "\n",
              "               topic  type               label_opinion  \\\n",
              "0  marriage-equality  None            Entirely factual   \n",
              "1              islam  None  Expresses writer’s opinion   \n",
              "2  marriage-equality  None  Expresses writer’s opinion   \n",
              "3     elections-2020  left            Entirely factual   \n",
              "4     elections-2020  left  Expresses writer’s opinion   \n",
              "\n",
              "                                biased_words                    uuid  \n",
              "0                                         []  GtvFWZmmQmybyeMnb8Wbsr  \n",
              "1  ['indoctrinating', 'Marxist', 'alarming']  mvoQPtabs6NZbby6LkLbms  \n",
              "2                    ['what', 'the', 'hell']  RDWPbijx3n2aw6NiMHt7di  \n",
              "3                        ['false', 'claims']  2uYKw5KpXasJWH65WCjSu4  \n",
              "4                                 ['racist']  SRGvrzY9PkvtHESdts35Rw  "
            ]
          },
          "execution_count": 2,
          "metadata": {},
          "output_type": "execute_result"
        }
      ],
      "source": [
        "train_df.head()"
      ]
    },
    {
      "cell_type": "code",
      "execution_count": 3,
      "metadata": {
        "colab": {
          "base_uri": "https://localhost:8080/",
          "height": 206
        },
        "id": "IwuGyFbkLl7o",
        "outputId": "bec59d73-c172-49bc-ca31-db1500c19c5e"
      },
      "outputs": [
        {
          "data": {
            "text/html": [
              "\n",
              "  <div id=\"df-2c114fdd-7e97-49ae-9eae-c09d5ba099e7\" class=\"colab-df-container\">\n",
              "    <div>\n",
              "<style scoped>\n",
              "    .dataframe tbody tr th:only-of-type {\n",
              "        vertical-align: middle;\n",
              "    }\n",
              "\n",
              "    .dataframe tbody tr th {\n",
              "        vertical-align: top;\n",
              "    }\n",
              "\n",
              "    .dataframe thead th {\n",
              "        text-align: right;\n",
              "    }\n",
              "</style>\n",
              "<table border=\"1\" class=\"dataframe\">\n",
              "  <thead>\n",
              "    <tr style=\"text-align: right;\">\n",
              "      <th></th>\n",
              "      <th>text</th>\n",
              "      <th>news_link</th>\n",
              "      <th>label</th>\n",
              "      <th>outlet</th>\n",
              "      <th>topic</th>\n",
              "      <th>type</th>\n",
              "      <th>label_opinion</th>\n",
              "      <th>biased_words</th>\n",
              "      <th>uuid</th>\n",
              "    </tr>\n",
              "  </thead>\n",
              "  <tbody>\n",
              "    <tr>\n",
              "      <th>0</th>\n",
              "      <td>As the Black Lives Matter movement grows, comp...</td>\n",
              "      <td>https://www.foxnews.com/us/juneteenth-calls-in...</td>\n",
              "      <td>0</td>\n",
              "      <td>Fox News</td>\n",
              "      <td>marriage-equality</td>\n",
              "      <td>None</td>\n",
              "      <td>Entirely factual</td>\n",
              "      <td>[]</td>\n",
              "      <td>ayLcFCbNshSG5zjdXTQHGH</td>\n",
              "    </tr>\n",
              "    <tr>\n",
              "      <th>1</th>\n",
              "      <td>The case of Rahaf Mohammed al-Qunun drawn new ...</td>\n",
              "      <td>https://www.reuters.com/article/us-thailand-sa...</td>\n",
              "      <td>0</td>\n",
              "      <td>Reuters</td>\n",
              "      <td>gender</td>\n",
              "      <td>center</td>\n",
              "      <td>Entirely factual</td>\n",
              "      <td>[]</td>\n",
              "      <td>4QADvLi4RqLNtzkM9rCmS3</td>\n",
              "    </tr>\n",
              "    <tr>\n",
              "      <th>2</th>\n",
              "      <td>The Post said the talks on payroll taxes were ...</td>\n",
              "      <td>https://www.reuters.com/article/us-usa-economy...</td>\n",
              "      <td>0</td>\n",
              "      <td>Reuters</td>\n",
              "      <td>taxes</td>\n",
              "      <td>center</td>\n",
              "      <td>Entirely factual</td>\n",
              "      <td>[]</td>\n",
              "      <td>nAprfpSfXPNX3WvMFvADd7</td>\n",
              "    </tr>\n",
              "    <tr>\n",
              "      <th>3</th>\n",
              "      <td>Nearly 78 percent of Americans report experien...</td>\n",
              "      <td>https://www.thedailybeast.com/climate-disaster...</td>\n",
              "      <td>0</td>\n",
              "      <td>The Daily Beast</td>\n",
              "      <td>environment</td>\n",
              "      <td>None</td>\n",
              "      <td>None</td>\n",
              "      <td>None</td>\n",
              "      <td>yQsHy6FPz5cq92SE22Rwhj</td>\n",
              "    </tr>\n",
              "    <tr>\n",
              "      <th>4</th>\n",
              "      <td>Colin P. Clarke has been teaching a course on ...</td>\n",
              "      <td>https://eu.usatoday.com/story/news/nation/2020...</td>\n",
              "      <td>0</td>\n",
              "      <td>USA Today</td>\n",
              "      <td>white-nationalism</td>\n",
              "      <td>center</td>\n",
              "      <td>Entirely factual</td>\n",
              "      <td>[]</td>\n",
              "      <td>h4qCzqXRwgh5JyVBykCJFv</td>\n",
              "    </tr>\n",
              "  </tbody>\n",
              "</table>\n",
              "</div>\n",
              "    <div class=\"colab-df-buttons\">\n",
              "      \n",
              "  <div class=\"colab-df-container\">\n",
              "    <button class=\"colab-df-convert\" onclick=\"convertToInteractive('df-2c114fdd-7e97-49ae-9eae-c09d5ba099e7')\"\n",
              "            title=\"Convert this dataframe to an interactive table.\"\n",
              "            style=\"display:none;\">\n",
              "      \n",
              "  <svg xmlns=\"http://www.w3.org/2000/svg\" height=\"24px\" viewBox=\"0 -960 960 960\">\n",
              "    <path d=\"M120-120v-720h720v720H120Zm60-500h600v-160H180v160Zm220 220h160v-160H400v160Zm0 220h160v-160H400v160ZM180-400h160v-160H180v160Zm440 0h160v-160H620v160ZM180-180h160v-160H180v160Zm440 0h160v-160H620v160Z\"/>\n",
              "  </svg>\n",
              "    </button>\n",
              "    \n",
              "  <style>\n",
              "    .colab-df-container {\n",
              "      display:flex;\n",
              "      gap: 12px;\n",
              "    }\n",
              "\n",
              "    .colab-df-convert {\n",
              "      background-color: #E8F0FE;\n",
              "      border: none;\n",
              "      border-radius: 50%;\n",
              "      cursor: pointer;\n",
              "      display: none;\n",
              "      fill: #1967D2;\n",
              "      height: 32px;\n",
              "      padding: 0 0 0 0;\n",
              "      width: 32px;\n",
              "    }\n",
              "\n",
              "    .colab-df-convert:hover {\n",
              "      background-color: #E2EBFA;\n",
              "      box-shadow: 0px 1px 2px rgba(60, 64, 67, 0.3), 0px 1px 3px 1px rgba(60, 64, 67, 0.15);\n",
              "      fill: #174EA6;\n",
              "    }\n",
              "\n",
              "    .colab-df-buttons div {\n",
              "      margin-bottom: 4px;\n",
              "    }\n",
              "\n",
              "    [theme=dark] .colab-df-convert {\n",
              "      background-color: #3B4455;\n",
              "      fill: #D2E3FC;\n",
              "    }\n",
              "\n",
              "    [theme=dark] .colab-df-convert:hover {\n",
              "      background-color: #434B5C;\n",
              "      box-shadow: 0px 1px 3px 1px rgba(0, 0, 0, 0.15);\n",
              "      filter: drop-shadow(0px 1px 2px rgba(0, 0, 0, 0.3));\n",
              "      fill: #FFFFFF;\n",
              "    }\n",
              "  </style>\n",
              "\n",
              "    <script>\n",
              "      const buttonEl =\n",
              "        document.querySelector('#df-2c114fdd-7e97-49ae-9eae-c09d5ba099e7 button.colab-df-convert');\n",
              "      buttonEl.style.display =\n",
              "        google.colab.kernel.accessAllowed ? 'block' : 'none';\n",
              "\n",
              "      async function convertToInteractive(key) {\n",
              "        const element = document.querySelector('#df-2c114fdd-7e97-49ae-9eae-c09d5ba099e7');\n",
              "        const dataTable =\n",
              "          await google.colab.kernel.invokeFunction('convertToInteractive',\n",
              "                                                    [key], {});\n",
              "        if (!dataTable) return;\n",
              "\n",
              "        const docLinkHtml = 'Like what you see? Visit the ' +\n",
              "          '<a target=\"_blank\" href=https://colab.research.google.com/notebooks/data_table.ipynb>data table notebook</a>'\n",
              "          + ' to learn more about interactive tables.';\n",
              "        element.innerHTML = '';\n",
              "        dataTable['output_type'] = 'display_data';\n",
              "        await google.colab.output.renderOutput(dataTable, element);\n",
              "        const docLink = document.createElement('div');\n",
              "        docLink.innerHTML = docLinkHtml;\n",
              "        element.appendChild(docLink);\n",
              "      }\n",
              "    </script>\n",
              "  </div>\n",
              "  \n",
              "    </div>\n",
              "  </div>\n",
              "  "
            ],
            "text/plain": [
              "                                                text  \\\n",
              "0  As the Black Lives Matter movement grows, comp...   \n",
              "1  The case of Rahaf Mohammed al-Qunun drawn new ...   \n",
              "2  The Post said the talks on payroll taxes were ...   \n",
              "3  Nearly 78 percent of Americans report experien...   \n",
              "4  Colin P. Clarke has been teaching a course on ...   \n",
              "\n",
              "                                           news_link  label           outlet  \\\n",
              "0  https://www.foxnews.com/us/juneteenth-calls-in...      0         Fox News   \n",
              "1  https://www.reuters.com/article/us-thailand-sa...      0          Reuters   \n",
              "2  https://www.reuters.com/article/us-usa-economy...      0          Reuters   \n",
              "3  https://www.thedailybeast.com/climate-disaster...      0  The Daily Beast   \n",
              "4  https://eu.usatoday.com/story/news/nation/2020...      0        USA Today   \n",
              "\n",
              "               topic    type     label_opinion biased_words  \\\n",
              "0  marriage-equality    None  Entirely factual           []   \n",
              "1             gender  center  Entirely factual           []   \n",
              "2              taxes  center  Entirely factual           []   \n",
              "3        environment    None              None         None   \n",
              "4  white-nationalism  center  Entirely factual           []   \n",
              "\n",
              "                     uuid  \n",
              "0  ayLcFCbNshSG5zjdXTQHGH  \n",
              "1  4QADvLi4RqLNtzkM9rCmS3  \n",
              "2  nAprfpSfXPNX3WvMFvADd7  \n",
              "3  yQsHy6FPz5cq92SE22Rwhj  \n",
              "4  h4qCzqXRwgh5JyVBykCJFv  "
            ]
          },
          "execution_count": 3,
          "metadata": {},
          "output_type": "execute_result"
        }
      ],
      "source": [
        "test_df.head()"
      ]
    },
    {
      "cell_type": "markdown",
      "metadata": {
        "id": "8lEYMost0_75"
      },
      "source": [
        "## Data Exploration"
      ]
    },
    {
      "cell_type": "code",
      "execution_count": 4,
      "metadata": {
        "colab": {
          "base_uri": "https://localhost:8080/"
        },
        "id": "dvMAM0mGL4kc",
        "outputId": "9517645d-7547-4cf3-b01d-ee32a84c98a8"
      },
      "outputs": [
        {
          "data": {
            "text/plain": [
              "(3121, 9)"
            ]
          },
          "execution_count": 4,
          "metadata": {},
          "output_type": "execute_result"
        }
      ],
      "source": [
        "train_df.shape"
      ]
    },
    {
      "cell_type": "code",
      "execution_count": 5,
      "metadata": {
        "colab": {
          "base_uri": "https://localhost:8080/"
        },
        "id": "Q3wgLdFLL96t",
        "outputId": "387e9f1d-dbd3-492a-e013-d34901f9bdd4"
      },
      "outputs": [
        {
          "data": {
            "text/plain": [
              "(1000, 9)"
            ]
          },
          "execution_count": 5,
          "metadata": {},
          "output_type": "execute_result"
        }
      ],
      "source": [
        "test_df.shape"
      ]
    },
    {
      "cell_type": "code",
      "execution_count": 6,
      "metadata": {
        "colab": {
          "base_uri": "https://localhost:8080/"
        },
        "id": "zlDrAO2WnG3e",
        "outputId": "dd86563e-fa26-46ba-8ac9-2012f077a50d"
      },
      "outputs": [
        {
          "name": "stdout",
          "output_type": "stream",
          "text": [
            "Null values, null percentage, and data types for each column:\n",
            "               Null Values  Null Percentage (%) Data Type\n",
            "text                     0                  0.0    object\n",
            "news_link               22                  0.7    object\n",
            "label                    0                  0.0     int32\n",
            "outlet                   0                  0.0    object\n",
            "topic                    0                  0.0    object\n",
            "type                  1095                 35.1    object\n",
            "label_opinion          341                 10.9    object\n",
            "biased_words           341                 10.9    object\n",
            "uuid                     0                  0.0    object\n"
          ]
        }
      ],
      "source": [
        "# Calculate null values, data types, and % of null values for each column\n",
        "null_values = train_df.isnull().sum()\n",
        "data_types = train_df.dtypes\n",
        "null_percentage = round((null_values / len(train_df)) * 100,1)\n",
        "\n",
        "column_info = pd.DataFrame({\n",
        "    'Null Values': null_values,\n",
        "    'Null Percentage (%)': null_percentage,\n",
        "    'Data Type': data_types\n",
        "})\n",
        "\n",
        "print(\"Null values, null percentage, and data types for each column:\")\n",
        "print(column_info)\n"
      ]
    },
    {
      "cell_type": "code",
      "execution_count": 7,
      "metadata": {
        "id": "uUScHKCS1cZp"
      },
      "outputs": [],
      "source": [
        "label_mapping = {\"right\": 0, \"left\": 1, \"center\": 2}\n",
        "# Remove None values in 'type' column\n",
        "train_df = train_df.dropna(subset=['type']).copy()\n",
        "test_df = test_df.dropna(subset=['type']).copy()\n",
        "train_df.loc[:, 'type'] = train_df['type'].map(label_mapping).astype(int)\n",
        "test_df.loc[:, 'type'] = test_df['type'].map(label_mapping).astype(int)"
      ]
    },
    {
      "cell_type": "code",
      "execution_count": 8,
      "metadata": {
        "colab": {
          "base_uri": "https://localhost:8080/"
        },
        "id": "XbNo8N6V11F7",
        "outputId": "5bbe0c50-fe2e-4d9f-b0b6-2a6e427a073d"
      },
      "outputs": [
        {
          "data": {
            "text/plain": [
              "(2026, 9)"
            ]
          },
          "execution_count": 8,
          "metadata": {},
          "output_type": "execute_result"
        }
      ],
      "source": [
        "train_df.shape"
      ]
    },
    {
      "cell_type": "code",
      "execution_count": 9,
      "metadata": {
        "colab": {
          "base_uri": "https://localhost:8080/"
        },
        "id": "zl8YZ4Ms171T",
        "outputId": "def57043-555b-4f1a-bb0c-2fe537a68b7d"
      },
      "outputs": [
        {
          "data": {
            "text/plain": [
              "(646, 9)"
            ]
          },
          "execution_count": 9,
          "metadata": {},
          "output_type": "execute_result"
        }
      ],
      "source": [
        "test_df.shape"
      ]
    },
    {
      "cell_type": "code",
      "execution_count": 10,
      "metadata": {
        "colab": {
          "base_uri": "https://localhost:8080/",
          "height": 209
        },
        "id": "roVo_1aA2IZC",
        "outputId": "5e3de7cc-4cbb-4f87-e49e-7c021bd0911d"
      },
      "outputs": [
        {
          "data": {
            "text/html": [
              "<div>\n",
              "<style scoped>\n",
              "    .dataframe tbody tr th:only-of-type {\n",
              "        vertical-align: middle;\n",
              "    }\n",
              "\n",
              "    .dataframe tbody tr th {\n",
              "        vertical-align: top;\n",
              "    }\n",
              "\n",
              "    .dataframe thead th {\n",
              "        text-align: right;\n",
              "    }\n",
              "</style>\n",
              "<table border=\"1\" class=\"dataframe\">\n",
              "  <thead>\n",
              "    <tr style=\"text-align: right;\">\n",
              "      <th></th>\n",
              "      <th>count</th>\n",
              "    </tr>\n",
              "    <tr>\n",
              "      <th>type</th>\n",
              "      <th></th>\n",
              "    </tr>\n",
              "  </thead>\n",
              "  <tbody>\n",
              "    <tr>\n",
              "      <th>0</th>\n",
              "      <td>759</td>\n",
              "    </tr>\n",
              "    <tr>\n",
              "      <th>1</th>\n",
              "      <td>749</td>\n",
              "    </tr>\n",
              "    <tr>\n",
              "      <th>2</th>\n",
              "      <td>518</td>\n",
              "    </tr>\n",
              "  </tbody>\n",
              "</table>\n",
              "</div><br><label><b>dtype:</b> int64</label>"
            ],
            "text/plain": [
              "type\n",
              "0    759\n",
              "1    749\n",
              "2    518\n",
              "Name: count, dtype: int64"
            ]
          },
          "execution_count": 10,
          "metadata": {},
          "output_type": "execute_result"
        }
      ],
      "source": [
        "train_df['type'].value_counts()"
      ]
    },
    {
      "cell_type": "code",
      "execution_count": 11,
      "metadata": {
        "colab": {
          "base_uri": "https://localhost:8080/",
          "height": 467
        },
        "id": "4dhPtBhSOIh6",
        "outputId": "74842ec2-0dd1-4c48-aceb-8e21f6f00f65"
      },
      "outputs": [
        {
          "data": {
            "image/png": "[encoded data removed]",
            "text/plain": [
              "<Figure size 640x480 with 1 Axes>"
            ]
          },
          "metadata": {},
          "output_type": "display_data"
        }
      ],
      "source": [
        "import matplotlib.pyplot as plt\n",
        "type_counts = train_df['type'].value_counts()\n",
        "type_counts.plot(kind='bar')\n",
        "plt.title(\"Type Distribution\")\n",
        "plt.xlabel(\"Type\")\n",
        "plt.ylabel(\"Frequency\")\n",
        "plt.show()"
      ]
    },
    {
      "cell_type": "code",
      "execution_count": 12,
      "metadata": {
        "colab": {
          "base_uri": "https://localhost:8080/",
          "height": 519
        },
        "id": "DgF8hzBNOOxo",
        "outputId": "02fe3769-404a-4a61-8323-5e157187f41f"
      },
      "outputs": [
        {
          "data": {
            "image/png": "[encoded data removed]",
            "text/plain": [
              "<Figure size 640x480 with 1 Axes>"
            ]
          },
          "metadata": {},
          "output_type": "display_data"
        }
      ],
      "source": [
        "outlet_counts = train_df['outlet'].value_counts()\n",
        "outlet_counts.plot(kind='bar', color='lightgreen')\n",
        "plt.title(\"News Outlets in the Dataset\")\n",
        "plt.xlabel(\"Outlet\")\n",
        "plt.ylabel(\"Frequency\")\n",
        "plt.xticks(rotation=45)\n",
        "plt.show()"
      ]
    },
    {
      "cell_type": "code",
      "execution_count": 13,
      "metadata": {
        "colab": {
          "base_uri": "https://localhost:8080/",
          "height": 711
        },
        "id": "vE0KUkg3OqLi",
        "outputId": "b0d04b2c-69fd-4828-adae-6bf1ccb4f278"
      },
      "outputs": [
        {
          "data": {
            "text/html": [
              "<div>\n",
              "<style scoped>\n",
              "    .dataframe tbody tr th:only-of-type {\n",
              "        vertical-align: middle;\n",
              "    }\n",
              "\n",
              "    .dataframe tbody tr th {\n",
              "        vertical-align: top;\n",
              "    }\n",
              "\n",
              "    .dataframe thead th {\n",
              "        text-align: right;\n",
              "    }\n",
              "</style>\n",
              "<table border=\"1\" class=\"dataframe\">\n",
              "  <thead>\n",
              "    <tr style=\"text-align: right;\">\n",
              "      <th></th>\n",
              "      <th>count</th>\n",
              "    </tr>\n",
              "    <tr>\n",
              "      <th>topic</th>\n",
              "      <th></th>\n",
              "    </tr>\n",
              "  </thead>\n",
              "  <tbody>\n",
              "    <tr>\n",
              "      <th>black lives matter</th>\n",
              "      <td>212</td>\n",
              "    </tr>\n",
              "    <tr>\n",
              "      <th>taxes</th>\n",
              "      <td>179</td>\n",
              "    </tr>\n",
              "    <tr>\n",
              "      <th>universal health care</th>\n",
              "      <td>165</td>\n",
              "    </tr>\n",
              "    <tr>\n",
              "      <th>gun control</th>\n",
              "      <td>157</td>\n",
              "    </tr>\n",
              "    <tr>\n",
              "      <th>gender</th>\n",
              "      <td>102</td>\n",
              "    </tr>\n",
              "    <tr>\n",
              "      <th>white-nationalism</th>\n",
              "      <td>100</td>\n",
              "    </tr>\n",
              "    <tr>\n",
              "      <th>student-debt</th>\n",
              "      <td>100</td>\n",
              "    </tr>\n",
              "    <tr>\n",
              "      <th>sport</th>\n",
              "      <td>98</td>\n",
              "    </tr>\n",
              "    <tr>\n",
              "      <th>environment</th>\n",
              "      <td>97</td>\n",
              "    </tr>\n",
              "    <tr>\n",
              "      <th>gun-control</th>\n",
              "      <td>95</td>\n",
              "    </tr>\n",
              "    <tr>\n",
              "      <th>vaccines</th>\n",
              "      <td>92</td>\n",
              "    </tr>\n",
              "    <tr>\n",
              "      <th>coronavirus</th>\n",
              "      <td>92</td>\n",
              "    </tr>\n",
              "    <tr>\n",
              "      <th>abortion</th>\n",
              "      <td>92</td>\n",
              "    </tr>\n",
              "    <tr>\n",
              "      <th>trump-presidency</th>\n",
              "      <td>91</td>\n",
              "    </tr>\n",
              "    <tr>\n",
              "      <th>immigration</th>\n",
              "      <td>89</td>\n",
              "    </tr>\n",
              "    <tr>\n",
              "      <th>elections-2020</th>\n",
              "      <td>89</td>\n",
              "    </tr>\n",
              "    <tr>\n",
              "      <th>middle-class</th>\n",
              "      <td>84</td>\n",
              "    </tr>\n",
              "    <tr>\n",
              "      <th>international-politics-and-world-news</th>\n",
              "      <td>67</td>\n",
              "    </tr>\n",
              "    <tr>\n",
              "      <th>#metoo</th>\n",
              "      <td>25</td>\n",
              "    </tr>\n",
              "  </tbody>\n",
              "</table>\n",
              "</div><br><label><b>dtype:</b> int64</label>"
            ],
            "text/plain": [
              "topic\n",
              "black lives matter                       212\n",
              "taxes                                    179\n",
              "universal health care                    165\n",
              "gun control                              157\n",
              "gender                                   102\n",
              "white-nationalism                        100\n",
              "student-debt                             100\n",
              "sport                                     98\n",
              "environment                               97\n",
              "gun-control                               95\n",
              "vaccines                                  92\n",
              "coronavirus                               92\n",
              "abortion                                  92\n",
              "trump-presidency                          91\n",
              "immigration                               89\n",
              "elections-2020                            89\n",
              "middle-class                              84\n",
              "international-politics-and-world-news     67\n",
              "#metoo                                    25\n",
              "Name: count, dtype: int64"
            ]
          },
          "execution_count": 13,
          "metadata": {},
          "output_type": "execute_result"
        }
      ],
      "source": [
        "train_df['topic'].value_counts()"
      ]
    },
    {
      "cell_type": "code",
      "execution_count": 14,
      "metadata": {
        "colab": {
          "base_uri": "https://localhost:8080/"
        },
        "id": "kaPu0fSalNvt",
        "outputId": "777b851c-1518-4d16-ab74-512d8725acf3"
      },
      "outputs": [
        {
          "name": "stdout",
          "output_type": "stream",
          "text": [
            "Top 20 Biased Words and Counts:\n",
            ": 1002\n",
            "claiming: 24\n",
            "illegal: 19\n",
            "aliens: 19\n",
            "claim: 18\n",
            "claimed: 18\n",
            "claims: 16\n",
            "the: 14\n",
            "of: 12\n",
            "out: 11\n",
            "radical: 9\n",
            "mob: 9\n",
            "leftist: 9\n",
            "racist: 8\n",
            "toxic: 8\n",
            "slammed: 8\n",
            "up: 8\n",
            "dramatic: 8\n",
            "lies: 7\n",
            "white: 7\n"
          ]
        }
      ],
      "source": [
        "from collections import Counter\n",
        "biased_words_list = []\n",
        "\n",
        "for entry in train_df['biased_words']:\n",
        "    # Check if the entry is a list and not empty\n",
        "    if isinstance(entry, list) and entry:\n",
        "        biased_words_list.extend(entry)\n",
        "    # If it's a string, split it by commas\n",
        "    elif isinstance(entry, str) and entry:\n",
        "        biased_words_list.extend(entry.strip(\"[]\").replace(\"'\", \"\").split(\", \"))\n",
        "\n",
        "# occurrences of each biased word\n",
        "biased_word_counts = Counter(biased_words_list)\n",
        "top_biased_words = dict(biased_word_counts.most_common(20))\n",
        "\n",
        "# distinct list of top 20 biased words and their counts\n",
        "print(\"Top 20 Biased Words and Counts:\")\n",
        "for word, count in top_biased_words.items():\n",
        "    print(f\"{word}: {count}\")"
      ]
    },
    {
      "cell_type": "code",
      "execution_count": 15,
      "metadata": {
        "colab": {
          "base_uri": "https://localhost:8080/",
          "height": 661
        },
        "id": "LA4zInhPjNej",
        "outputId": "7ac5dea2-4af9-4781-e73f-05010f16c062"
      },
      "outputs": [
        {
          "data": {
            "image/png": "[encoded data removed]",
            "text/plain": [
              "<Figure size 640x480 with 1 Axes>"
            ]
          },
          "metadata": {},
          "output_type": "display_data"
        }
      ],
      "source": [
        "# label_opinion distribution\n",
        "opinion_counts = train_df['label_opinion'].value_counts()\n",
        "opinion_counts.plot(kind='bar', color='orange')\n",
        "plt.title(\"Label Opinion Distribution\")\n",
        "plt.xlabel(\"Label Opinion\")\n",
        "plt.ylabel(\"Frequency\")\n",
        "plt.xticks(rotation=45)\n",
        "plt.show()"
      ]
    },
    {
      "cell_type": "code",
      "execution_count": 16,
      "metadata": {
        "colab": {
          "base_uri": "https://localhost:8080/",
          "height": 472
        },
        "id": "uP4IEdvCjkW1",
        "outputId": "7e89a2ba-88fa-4afa-c9d5-4d6d22e3df6d"
      },
      "outputs": [
        {
          "data": {
            "image/png": "[encoded data removed]",
            "text/plain": [
              "<Figure size 640x480 with 1 Axes>"
            ]
          },
          "metadata": {},
          "output_type": "display_data"
        }
      ],
      "source": [
        "train_df['text_length'] = train_df['text'].apply(lambda x: len(x.split()))\n",
        "# histogram of text lengths\n",
        "train_df['text_length'].plot(kind='hist', bins=30, color='lightblue')\n",
        "plt.title(\"Distribution of Text Lengths\")\n",
        "plt.xlabel(\"Text Length (Word Count)\")\n",
        "plt.ylabel(\"Frequency\")\n",
        "plt.show()"
      ]
    },
    {
      "cell_type": "code",
      "execution_count": 17,
      "metadata": {
        "colab": {
          "base_uri": "https://localhost:8080/",
          "height": 293
        },
        "id": "Z-FFuAm7VUy2",
        "outputId": "00f9af8b-63ae-4df7-a5aa-73ac9656b502"
      },
      "outputs": [
        {
          "data": {
            "text/html": [
              "\n",
              "  <div id=\"df-00b5605c-e9e8-418d-b7b2-47ffeacd7c64\" class=\"colab-df-container\">\n",
              "    <div>\n",
              "<style scoped>\n",
              "    .dataframe tbody tr th:only-of-type {\n",
              "        vertical-align: middle;\n",
              "    }\n",
              "\n",
              "    .dataframe tbody tr th {\n",
              "        vertical-align: top;\n",
              "    }\n",
              "\n",
              "    .dataframe thead th {\n",
              "        text-align: right;\n",
              "    }\n",
              "</style>\n",
              "<table border=\"1\" class=\"dataframe\">\n",
              "  <thead>\n",
              "    <tr style=\"text-align: right;\">\n",
              "      <th></th>\n",
              "      <th>text</th>\n",
              "      <th>news_link</th>\n",
              "      <th>label</th>\n",
              "      <th>outlet</th>\n",
              "      <th>topic</th>\n",
              "      <th>type</th>\n",
              "      <th>label_opinion</th>\n",
              "      <th>biased_words</th>\n",
              "      <th>uuid</th>\n",
              "      <th>text_length</th>\n",
              "    </tr>\n",
              "  </thead>\n",
              "  <tbody>\n",
              "    <tr>\n",
              "      <th>3</th>\n",
              "      <td>The curfews, which have never before occurred ...</td>\n",
              "      <td>https://www.alternet.org/2020/06/we-just-got-a...</td>\n",
              "      <td>1</td>\n",
              "      <td>Alternet</td>\n",
              "      <td>elections-2020</td>\n",
              "      <td>1</td>\n",
              "      <td>Entirely factual</td>\n",
              "      <td>['false', 'claims']</td>\n",
              "      <td>2uYKw5KpXasJWH65WCjSu4</td>\n",
              "      <td>60</td>\n",
              "    </tr>\n",
              "    <tr>\n",
              "      <th>4</th>\n",
              "      <td>Rather than help be a part of the solution, Tr...</td>\n",
              "      <td>https://www.alternet.org/2020/06/trump-thought...</td>\n",
              "      <td>1</td>\n",
              "      <td>Alternet</td>\n",
              "      <td>elections-2020</td>\n",
              "      <td>1</td>\n",
              "      <td>Expresses writer’s opinion</td>\n",
              "      <td>['racist']</td>\n",
              "      <td>SRGvrzY9PkvtHESdts35Rw</td>\n",
              "      <td>47</td>\n",
              "    </tr>\n",
              "    <tr>\n",
              "      <th>5</th>\n",
              "      <td>The Times reported that Bill Gates had met in ...</td>\n",
              "      <td>https://www.reuters.com/article/uk-factcheck-b...</td>\n",
              "      <td>0</td>\n",
              "      <td>Reuters</td>\n",
              "      <td>#metoo</td>\n",
              "      <td>2</td>\n",
              "      <td>Entirely factual</td>\n",
              "      <td>[]</td>\n",
              "      <td>A4cxdS37FXciRVQCWn2XEd</td>\n",
              "      <td>13</td>\n",
              "    </tr>\n",
              "    <tr>\n",
              "      <th>7</th>\n",
              "      <td>The Trump administration is proposing tariffs ...</td>\n",
              "      <td>None</td>\n",
              "      <td>0</td>\n",
              "      <td>Breitbart</td>\n",
              "      <td>international-politics-and-world-news</td>\n",
              "      <td>0</td>\n",
              "      <td>Entirely factual</td>\n",
              "      <td>[]</td>\n",
              "      <td>GSrpqAY2pikLheBivKgnyF</td>\n",
              "      <td>39</td>\n",
              "    </tr>\n",
              "    <tr>\n",
              "      <th>8</th>\n",
              "      <td>Rep. Al Green (D-TX) at a hearing on Wednesday...</td>\n",
              "      <td>https://www.breitbart.com/politics/2019/09/18/...</td>\n",
              "      <td>1</td>\n",
              "      <td>Breitbart</td>\n",
              "      <td>white-nationalism</td>\n",
              "      <td>0</td>\n",
              "      <td>Somewhat factual but also opinionated</td>\n",
              "      <td>['hoax']</td>\n",
              "      <td>mgPeeKAZxQQpZNc86Hua5B</td>\n",
              "      <td>29</td>\n",
              "    </tr>\n",
              "  </tbody>\n",
              "</table>\n",
              "</div>\n",
              "    <div class=\"colab-df-buttons\">\n",
              "      \n",
              "  <div class=\"colab-df-container\">\n",
              "    <button class=\"colab-df-convert\" onclick=\"convertToInteractive('df-00b5605c-e9e8-418d-b7b2-47ffeacd7c64')\"\n",
              "            title=\"Convert this dataframe to an interactive table.\"\n",
              "            style=\"display:none;\">\n",
              "      \n",
              "  <svg xmlns=\"http://www.w3.org/2000/svg\" height=\"24px\" viewBox=\"0 -960 960 960\">\n",
              "    <path d=\"M120-120v-720h720v720H120Zm60-500h600v-160H180v160Zm220 220h160v-160H400v160Zm0 220h160v-160H400v160ZM180-400h160v-160H180v160Zm440 0h160v-160H620v160ZM180-180h160v-160H180v160Zm440 0h160v-160H620v160Z\"/>\n",
              "  </svg>\n",
              "    </button>\n",
              "    \n",
              "  <style>\n",
              "    .colab-df-container {\n",
              "      display:flex;\n",
              "      gap: 12px;\n",
              "    }\n",
              "\n",
              "    .colab-df-convert {\n",
              "      background-color: #E8F0FE;\n",
              "      border: none;\n",
              "      border-radius: 50%;\n",
              "      cursor: pointer;\n",
              "      display: none;\n",
              "      fill: #1967D2;\n",
              "      height: 32px;\n",
              "      padding: 0 0 0 0;\n",
              "      width: 32px;\n",
              "    }\n",
              "\n",
              "    .colab-df-convert:hover {\n",
              "      background-color: #E2EBFA;\n",
              "      box-shadow: 0px 1px 2px rgba(60, 64, 67, 0.3), 0px 1px 3px 1px rgba(60, 64, 67, 0.15);\n",
              "      fill: #174EA6;\n",
              "    }\n",
              "\n",
              "    .colab-df-buttons div {\n",
              "      margin-bottom: 4px;\n",
              "    }\n",
              "\n",
              "    [theme=dark] .colab-df-convert {\n",
              "      background-color: #3B4455;\n",
              "      fill: #D2E3FC;\n",
              "    }\n",
              "\n",
              "    [theme=dark] .colab-df-convert:hover {\n",
              "      background-color: #434B5C;\n",
              "      box-shadow: 0px 1px 3px 1px rgba(0, 0, 0, 0.15);\n",
              "      filter: drop-shadow(0px 1px 2px rgba(0, 0, 0, 0.3));\n",
              "      fill: #FFFFFF;\n",
              "    }\n",
              "  </style>\n",
              "\n",
              "    <script>\n",
              "      const buttonEl =\n",
              "        document.querySelector('#df-00b5605c-e9e8-418d-b7b2-47ffeacd7c64 button.colab-df-convert');\n",
              "      buttonEl.style.display =\n",
              "        google.colab.kernel.accessAllowed ? 'block' : 'none';\n",
              "\n",
              "      async function convertToInteractive(key) {\n",
              "        const element = document.querySelector('#df-00b5605c-e9e8-418d-b7b2-47ffeacd7c64');\n",
              "        const dataTable =\n",
              "          await google.colab.kernel.invokeFunction('convertToInteractive',\n",
              "                                                    [key], {});\n",
              "        if (!dataTable) return;\n",
              "\n",
              "        const docLinkHtml = 'Like what you see? Visit the ' +\n",
              "          '<a target=\"_blank\" href=https://colab.research.google.com/notebooks/data_table.ipynb>data table notebook</a>'\n",
              "          + ' to learn more about interactive tables.';\n",
              "        element.innerHTML = '';\n",
              "        dataTable['output_type'] = 'display_data';\n",
              "        await google.colab.output.renderOutput(dataTable, element);\n",
              "        const docLink = document.createElement('div');\n",
              "        docLink.innerHTML = docLinkHtml;\n",
              "        element.appendChild(docLink);\n",
              "      }\n",
              "    </script>\n",
              "  </div>\n",
              "  \n",
              "    </div>\n",
              "  </div>\n",
              "  "
            ],
            "text/plain": [
              "                                                text  \\\n",
              "3  The curfews, which have never before occurred ...   \n",
              "4  Rather than help be a part of the solution, Tr...   \n",
              "5  The Times reported that Bill Gates had met in ...   \n",
              "7  The Trump administration is proposing tariffs ...   \n",
              "8  Rep. Al Green (D-TX) at a hearing on Wednesday...   \n",
              "\n",
              "                                           news_link  label     outlet  \\\n",
              "3  https://www.alternet.org/2020/06/we-just-got-a...      1   Alternet   \n",
              "4  https://www.alternet.org/2020/06/trump-thought...      1   Alternet   \n",
              "5  https://www.reuters.com/article/uk-factcheck-b...      0    Reuters   \n",
              "7                                               None      0  Breitbart   \n",
              "8  https://www.breitbart.com/politics/2019/09/18/...      1  Breitbart   \n",
              "\n",
              "                                   topic type  \\\n",
              "3                         elections-2020    1   \n",
              "4                         elections-2020    1   \n",
              "5                                 #metoo    2   \n",
              "7  international-politics-and-world-news    0   \n",
              "8                      white-nationalism    0   \n",
              "\n",
              "                           label_opinion         biased_words  \\\n",
              "3                       Entirely factual  ['false', 'claims']   \n",
              "4             Expresses writer’s opinion           ['racist']   \n",
              "5                       Entirely factual                   []   \n",
              "7                       Entirely factual                   []   \n",
              "8  Somewhat factual but also opinionated             ['hoax']   \n",
              "\n",
              "                     uuid  text_length  \n",
              "3  2uYKw5KpXasJWH65WCjSu4           60  \n",
              "4  SRGvrzY9PkvtHESdts35Rw           47  \n",
              "5  A4cxdS37FXciRVQCWn2XEd           13  \n",
              "7  GSrpqAY2pikLheBivKgnyF           39  \n",
              "8  mgPeeKAZxQQpZNc86Hua5B           29  "
            ]
          },
          "execution_count": 17,
          "metadata": {},
          "output_type": "execute_result"
        }
      ],
      "source": [
        "train_df.head(5)"
      ]
    },
    {
      "cell_type": "code",
      "execution_count": 18,
      "metadata": {
        "colab": {
          "base_uri": "https://localhost:8080/",
          "height": 209
        },
        "id": "y5CdcIOkjoMC",
        "outputId": "6312661c-6b96-4f80-fc92-9490d1a1a80b"
      },
      "outputs": [
        {
          "data": {
            "text/html": [
              "<div>\n",
              "<style scoped>\n",
              "    .dataframe tbody tr th:only-of-type {\n",
              "        vertical-align: middle;\n",
              "    }\n",
              "\n",
              "    .dataframe tbody tr th {\n",
              "        vertical-align: top;\n",
              "    }\n",
              "\n",
              "    .dataframe thead th {\n",
              "        text-align: right;\n",
              "    }\n",
              "</style>\n",
              "<table border=\"1\" class=\"dataframe\">\n",
              "  <thead>\n",
              "    <tr style=\"text-align: right;\">\n",
              "      <th></th>\n",
              "      <th>count</th>\n",
              "    </tr>\n",
              "    <tr>\n",
              "      <th>type</th>\n",
              "      <th></th>\n",
              "    </tr>\n",
              "  </thead>\n",
              "  <tbody>\n",
              "    <tr>\n",
              "      <th>1</th>\n",
              "      <td>240</td>\n",
              "    </tr>\n",
              "    <tr>\n",
              "      <th>0</th>\n",
              "      <td>232</td>\n",
              "    </tr>\n",
              "    <tr>\n",
              "      <th>2</th>\n",
              "      <td>174</td>\n",
              "    </tr>\n",
              "  </tbody>\n",
              "</table>\n",
              "</div><br><label><b>dtype:</b> int64</label>"
            ],
            "text/plain": [
              "type\n",
              "1    240\n",
              "0    232\n",
              "2    174\n",
              "Name: count, dtype: int64"
            ]
          },
          "execution_count": 18,
          "metadata": {},
          "output_type": "execute_result"
        }
      ],
      "source": [
        "test_df['type'].value_counts()"
      ]
    },
    {
      "cell_type": "markdown",
      "metadata": {
        "id": "StmegA_cBG7p"
      },
      "source": [
        "#### Example of a Right, Center and Left text"
      ]
    },
    {
      "cell_type": "code",
      "execution_count": 19,
      "metadata": {
        "colab": {
          "base_uri": "https://localhost:8080/"
        },
        "id": "UJ-JrTMUBLMa",
        "outputId": "a3e93753-bc84-4ced-a2fa-d33e2dc38931"
      },
      "outputs": [
        {
          "name": "stdout",
          "output_type": "stream",
          "text": [
            "Examples for right:\n",
            "\n",
            "- The Trump administration is proposing tariffs on up to $2.4 billion worth of French imports — including Roquefort cheese, handbags, lipstick and sparkling wine — in retaliation for France’s tax on American tech giants like Google, Amazon and Facebook.\n",
            "- Rep. Al Green (D-TX) at a hearing on Wednesday perpetuated the hoax that President Trump called white nationalists at a rally in Charlottesville, Virginia in 2017 “very fine people.”\n",
            "- The British government will attempt to mitigate the economic, social, and business impacts of the coronavirus outbreak with a combination of tax cuts and new spending, the chancellor announced Wednesday, the first of the new Boris Johnson government.\n",
            "\n",
            "==================================================\n",
            "\n",
            "Examples for left:\n",
            "\n",
            "- The curfews, which have never before occurred on an Election Day in recent times, were a response to looting that occurred after generally peaceful protests against police violence and racism. However, the curfews also come in a climate where the Republican Party, led by President Trump, has been repeatedly making false claims that voting by mail is rife with fraud\n",
            "- Rather than help be a part of the solution, Trump is intentionally exacerbating the tensions–not only because he himself is a racist whose politics of authoritarian white grievance align with the same forces driving police violence itself, but because he is desperate and in grave political peril.\n",
            "- Pompeo appeared hopelessly lost when WSMV’s Nancy Amon was far better prepared for an interview than he was.\n",
            "\n",
            "==================================================\n",
            "\n",
            "Examples for center:\n",
            "\n",
            "- The Times reported that Bill Gates had met in with Epstein multiple times \n",
            "- Former Secretary of the Navy Richard V. Spencer on Friday endorsed Democratic presidential candidate Michael Bloomberg, making him the first high-level former Trump administration official to back a Democratic hopeful in the 2020 election.\n",
            "- The El Paso attack has also put new pressure on a man some white nationalists praise as helping advance their movement: Donald Trump.\n",
            "\n",
            "==================================================\n",
            "\n"
          ]
        }
      ],
      "source": [
        "# Label mapping {\"right\": 0, \"left\": 1, \"center\": 2}\n",
        "for label, value in label_mapping.items():\n",
        "    examples = train_df[train_df['type'] == value]['text'].head(3)  # first 3 examples for each label\n",
        "    print(f\"Examples for {label}:\\n\")\n",
        "    for example in examples:\n",
        "        print(f\"- {example}\")\n",
        "    print(\"\\n\" + \"=\"*50 + \"\\n\")"
      ]
    },
    {
      "cell_type": "code",
      "execution_count": 20,
      "metadata": {
        "colab": {
          "base_uri": "https://localhost:8080/"
        },
        "id": "lWj2FUzhN7Da",
        "outputId": "707b04d8-35e6-4ee7-f224-268454c4e13d"
      },
      "outputs": [
        {
          "name": "stdout",
          "output_type": "stream",
          "text": [
            "Drive already mounted at /content/drive; to attempt to forcibly remount, call drive.mount(\"/content/drive\", force_remount=True).\n"
          ]
        }
      ],
      "source": [
        "from google.colab import drive\n",
        "drive.mount('/content/drive')"
      ]
    },
    {
      "cell_type": "code",
      "execution_count": 21,
      "metadata": {
        "id": "7iUa4u1fOUWM"
      },
      "outputs": [],
      "source": [
        "import pandas as pd\n",
        "train_file_path = \"/content/drive/MyDrive/266_Project/train_df.csv\"\n",
        "test_file_path = \"/content/drive/MyDrive/266_Project/test_df.csv\"\n",
        "train_df.to_csv(train_file_path, index=False)\n",
        "test_df.to_csv(test_file_path, index=False)"
      ]
    }
  ],
  "metadata": {
    "colab": {
      "provenance": []
    },
    "kernelspec": {
      "display_name": "Python 3",
      "name": "python3"
    },
    "language_info": {
      "name": "python"
    }
  },
  "nbformat": 4,
  "nbformat_minor": 0
}
